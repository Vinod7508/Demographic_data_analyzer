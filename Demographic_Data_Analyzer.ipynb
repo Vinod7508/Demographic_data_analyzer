{
 "cells": [
  {
   "cell_type": "markdown",
   "id": "8f8fb09b",
   "metadata": {},
   "source": [
    "# FreecodeCamp Challange Demographic_Data_Analyzer "
   ]
  },
  {
   "cell_type": "markdown",
   "id": "d05ed61e",
   "metadata": {},
   "source": [
    "**In this challenge you must analyze demographic data using Pandas. \n",
    "You are given a dataset of demographic data that was extracted from the 1994 Census database.**\n",
    "\n",
    "You must use Pandas to answer the following questions:"
   ]
  },
  {
   "cell_type": "code",
   "execution_count": 3,
   "id": "72cdbaa9",
   "metadata": {},
   "outputs": [],
   "source": [
    "import numpy as np\n",
    "import pandas as pd"
   ]
  },
  {
   "cell_type": "markdown",
   "id": "f903bb18",
   "metadata": {},
   "source": [
    "**Read Adult.csv as a dataframe called DDA**"
   ]
  },
  {
   "cell_type": "code",
   "execution_count": 4,
   "id": "705b6f3a",
   "metadata": {},
   "outputs": [],
   "source": [
    "DDA = pd.read_csv(\"adult.data.csv\")"
   ]
  },
  {
   "cell_type": "code",
   "execution_count": 5,
   "id": "a6bd563d",
   "metadata": {},
   "outputs": [
    {
     "data": {
      "text/html": [
       "<div>\n",
       "<style scoped>\n",
       "    .dataframe tbody tr th:only-of-type {\n",
       "        vertical-align: middle;\n",
       "    }\n",
       "\n",
       "    .dataframe tbody tr th {\n",
       "        vertical-align: top;\n",
       "    }\n",
       "\n",
       "    .dataframe thead th {\n",
       "        text-align: right;\n",
       "    }\n",
       "</style>\n",
       "<table border=\"1\" class=\"dataframe\">\n",
       "  <thead>\n",
       "    <tr style=\"text-align: right;\">\n",
       "      <th></th>\n",
       "      <th>age</th>\n",
       "      <th>workclass</th>\n",
       "      <th>fnlwgt</th>\n",
       "      <th>education</th>\n",
       "      <th>education-num</th>\n",
       "      <th>marital-status</th>\n",
       "      <th>occupation</th>\n",
       "      <th>relationship</th>\n",
       "      <th>race</th>\n",
       "      <th>sex</th>\n",
       "      <th>capital-gain</th>\n",
       "      <th>capital-loss</th>\n",
       "      <th>hours-per-week</th>\n",
       "      <th>native-country</th>\n",
       "      <th>salary</th>\n",
       "    </tr>\n",
       "  </thead>\n",
       "  <tbody>\n",
       "    <tr>\n",
       "      <th>0</th>\n",
       "      <td>39</td>\n",
       "      <td>State-gov</td>\n",
       "      <td>77516</td>\n",
       "      <td>Bachelors</td>\n",
       "      <td>13</td>\n",
       "      <td>Never-married</td>\n",
       "      <td>Adm-clerical</td>\n",
       "      <td>Not-in-family</td>\n",
       "      <td>White</td>\n",
       "      <td>Male</td>\n",
       "      <td>2174</td>\n",
       "      <td>0</td>\n",
       "      <td>40</td>\n",
       "      <td>United-States</td>\n",
       "      <td>&lt;=50K</td>\n",
       "    </tr>\n",
       "    <tr>\n",
       "      <th>1</th>\n",
       "      <td>50</td>\n",
       "      <td>Self-emp-not-inc</td>\n",
       "      <td>83311</td>\n",
       "      <td>Bachelors</td>\n",
       "      <td>13</td>\n",
       "      <td>Married-civ-spouse</td>\n",
       "      <td>Exec-managerial</td>\n",
       "      <td>Husband</td>\n",
       "      <td>White</td>\n",
       "      <td>Male</td>\n",
       "      <td>0</td>\n",
       "      <td>0</td>\n",
       "      <td>13</td>\n",
       "      <td>United-States</td>\n",
       "      <td>&lt;=50K</td>\n",
       "    </tr>\n",
       "    <tr>\n",
       "      <th>2</th>\n",
       "      <td>38</td>\n",
       "      <td>Private</td>\n",
       "      <td>215646</td>\n",
       "      <td>HS-grad</td>\n",
       "      <td>9</td>\n",
       "      <td>Divorced</td>\n",
       "      <td>Handlers-cleaners</td>\n",
       "      <td>Not-in-family</td>\n",
       "      <td>White</td>\n",
       "      <td>Male</td>\n",
       "      <td>0</td>\n",
       "      <td>0</td>\n",
       "      <td>40</td>\n",
       "      <td>United-States</td>\n",
       "      <td>&lt;=50K</td>\n",
       "    </tr>\n",
       "    <tr>\n",
       "      <th>3</th>\n",
       "      <td>53</td>\n",
       "      <td>Private</td>\n",
       "      <td>234721</td>\n",
       "      <td>11th</td>\n",
       "      <td>7</td>\n",
       "      <td>Married-civ-spouse</td>\n",
       "      <td>Handlers-cleaners</td>\n",
       "      <td>Husband</td>\n",
       "      <td>Black</td>\n",
       "      <td>Male</td>\n",
       "      <td>0</td>\n",
       "      <td>0</td>\n",
       "      <td>40</td>\n",
       "      <td>United-States</td>\n",
       "      <td>&lt;=50K</td>\n",
       "    </tr>\n",
       "    <tr>\n",
       "      <th>4</th>\n",
       "      <td>28</td>\n",
       "      <td>Private</td>\n",
       "      <td>338409</td>\n",
       "      <td>Bachelors</td>\n",
       "      <td>13</td>\n",
       "      <td>Married-civ-spouse</td>\n",
       "      <td>Prof-specialty</td>\n",
       "      <td>Wife</td>\n",
       "      <td>Black</td>\n",
       "      <td>Female</td>\n",
       "      <td>0</td>\n",
       "      <td>0</td>\n",
       "      <td>40</td>\n",
       "      <td>Cuba</td>\n",
       "      <td>&lt;=50K</td>\n",
       "    </tr>\n",
       "  </tbody>\n",
       "</table>\n",
       "</div>"
      ],
      "text/plain": [
       "   age         workclass  fnlwgt  education  education-num  \\\n",
       "0   39         State-gov   77516  Bachelors             13   \n",
       "1   50  Self-emp-not-inc   83311  Bachelors             13   \n",
       "2   38           Private  215646    HS-grad              9   \n",
       "3   53           Private  234721       11th              7   \n",
       "4   28           Private  338409  Bachelors             13   \n",
       "\n",
       "       marital-status         occupation   relationship   race     sex  \\\n",
       "0       Never-married       Adm-clerical  Not-in-family  White    Male   \n",
       "1  Married-civ-spouse    Exec-managerial        Husband  White    Male   \n",
       "2            Divorced  Handlers-cleaners  Not-in-family  White    Male   \n",
       "3  Married-civ-spouse  Handlers-cleaners        Husband  Black    Male   \n",
       "4  Married-civ-spouse     Prof-specialty           Wife  Black  Female   \n",
       "\n",
       "   capital-gain  capital-loss  hours-per-week native-country salary  \n",
       "0          2174             0              40  United-States  <=50K  \n",
       "1             0             0              13  United-States  <=50K  \n",
       "2             0             0              40  United-States  <=50K  \n",
       "3             0             0              40  United-States  <=50K  \n",
       "4             0             0              40           Cuba  <=50K  "
      ]
     },
     "execution_count": 5,
     "metadata": {},
     "output_type": "execute_result"
    }
   ],
   "source": [
    "DDA.head(5)"
   ]
  },
  {
   "cell_type": "markdown",
   "id": "1e0fcca1",
   "metadata": {},
   "source": [
    "**How many people of each race are represented in this dataset? This should be a Pandas series with race names as the index labels. (race column)**"
   ]
  },
  {
   "cell_type": "code",
   "execution_count": 10,
   "id": "b8b3830c",
   "metadata": {},
   "outputs": [
    {
     "data": {
      "text/plain": [
       "White                 27816\n",
       "Black                  3124\n",
       "Asian-Pac-Islander     1039\n",
       "Amer-Indian-Eskimo      311\n",
       "Other                   271\n",
       "Name: race, dtype: int64"
      ]
     },
     "execution_count": 10,
     "metadata": {},
     "output_type": "execute_result"
    }
   ],
   "source": [
    "DDA[\"race\"].value_counts()"
   ]
  },
  {
   "cell_type": "markdown",
   "id": "0932158a",
   "metadata": {},
   "source": [
    "**What is the average age of men?**"
   ]
  },
  {
   "cell_type": "code",
   "execution_count": 14,
   "id": "9f91fa50",
   "metadata": {},
   "outputs": [
    {
     "data": {
      "text/html": [
       "<div>\n",
       "<style scoped>\n",
       "    .dataframe tbody tr th:only-of-type {\n",
       "        vertical-align: middle;\n",
       "    }\n",
       "\n",
       "    .dataframe tbody tr th {\n",
       "        vertical-align: top;\n",
       "    }\n",
       "\n",
       "    .dataframe thead th {\n",
       "        text-align: right;\n",
       "    }\n",
       "</style>\n",
       "<table border=\"1\" class=\"dataframe\">\n",
       "  <thead>\n",
       "    <tr style=\"text-align: right;\">\n",
       "      <th></th>\n",
       "      <th>age</th>\n",
       "    </tr>\n",
       "    <tr>\n",
       "      <th>sex</th>\n",
       "      <th></th>\n",
       "    </tr>\n",
       "  </thead>\n",
       "  <tbody>\n",
       "    <tr>\n",
       "      <th>Female</th>\n",
       "      <td>36.858230</td>\n",
       "    </tr>\n",
       "    <tr>\n",
       "      <th>Male</th>\n",
       "      <td>39.433547</td>\n",
       "    </tr>\n",
       "  </tbody>\n",
       "</table>\n",
       "</div>"
      ],
      "text/plain": [
       "              age\n",
       "sex              \n",
       "Female  36.858230\n",
       "Male    39.433547"
      ]
     },
     "execution_count": 14,
     "metadata": {},
     "output_type": "execute_result"
    }
   ],
   "source": [
    "average_age_men = (DDA[DDA['sex'] == 'Male']['age'].mean())\n",
    "average_age_men\n",
    "\n",
    "average_age_all= DDA.groupby(\"sex\").agg({\"age\": np.mean})\n",
    "average_age_all"
   ]
  },
  {
   "cell_type": "markdown",
   "id": "1aeb15c9",
   "metadata": {},
   "source": [
    "**What is the percentage of people who have a Bachelor's degree?**"
   ]
  },
  {
   "cell_type": "code",
   "execution_count": 15,
   "id": "17335306",
   "metadata": {},
   "outputs": [
    {
     "data": {
      "text/plain": [
       "16.45"
      ]
     },
     "execution_count": 15,
     "metadata": {},
     "output_type": "execute_result"
    }
   ],
   "source": [
    "bachelorsP = round(100 * DDA['education'].eq('Bachelors').mean(),2)\n",
    "bachelorsP"
   ]
  },
  {
   "cell_type": "markdown",
   "id": "b8634814",
   "metadata": {},
   "source": [
    "**What percentage of people with advanced education (Bachelors, Masters, or Doctorate) make more than 50K?**"
   ]
  },
  {
   "cell_type": "code",
   "execution_count": 66,
   "id": "46d9e697",
   "metadata": {},
   "outputs": [
    {
     "data": {
      "text/plain": [
       "46.54"
      ]
     },
     "execution_count": 66,
     "metadata": {},
     "output_type": "execute_result"
    }
   ],
   "source": [
    "higher_education = DDA[DDA['education'].isin(['Bachelors', 'Masters', 'Doctorate'])]\n",
    "higher_education \n",
    "\n",
    "Per_highereducation =  round(100 * higher_education['salary'].eq(\">50K\").mean(),2)\n",
    "Per_highereducation"
   ]
  },
  {
   "cell_type": "markdown",
   "id": "dae8d26c",
   "metadata": {},
   "source": [
    "**What percentage of people without advanced education make more than 50K?**"
   ]
  },
  {
   "cell_type": "code",
   "execution_count": 67,
   "id": "8e8b8d5d",
   "metadata": {},
   "outputs": [
    {
     "data": {
      "text/plain": [
       "17.37"
      ]
     },
     "execution_count": 67,
     "metadata": {},
     "output_type": "execute_result"
    }
   ],
   "source": [
    "lower_education = DDA[~DDA['education'].isin(['Bachelors', 'Masters', 'Doctorate'])]\n",
    "\n",
    "Per_lowereducation =  round(100 * lower_education['salary'].eq(\">50K\").mean(),2)\n",
    "Per_lowereducation"
   ]
  },
  {
   "cell_type": "markdown",
   "id": "bbc38829",
   "metadata": {},
   "source": [
    "**What is the minimum number of hours a person works per week?**"
   ]
  },
  {
   "cell_type": "code",
   "execution_count": 63,
   "id": "e2d6255f",
   "metadata": {},
   "outputs": [
    {
     "data": {
      "text/plain": [
       "1"
      ]
     },
     "execution_count": 63,
     "metadata": {},
     "output_type": "execute_result"
    }
   ],
   "source": [
    "min_work_hours = DDA[\"hours-per-week\"].min()\n",
    "min_work_hours"
   ]
  },
  {
   "cell_type": "markdown",
   "id": "38bce504",
   "metadata": {},
   "source": [
    "**What percentage of the people who work the minimum number of hours per week have a salary of more than 50K?**"
   ]
  },
  {
   "cell_type": "code",
   "execution_count": 65,
   "id": "d2380c71",
   "metadata": {},
   "outputs": [
    {
     "data": {
      "text/plain": [
       "20"
      ]
     },
     "execution_count": 65,
     "metadata": {},
     "output_type": "execute_result"
    }
   ],
   "source": [
    "num_min_workers = len(DDA[DDA['hours-per-week'] == min_work_hours])\n",
    "num_min_workers"
   ]
  },
  {
   "cell_type": "code",
   "execution_count": 74,
   "id": "f1685bdf",
   "metadata": {},
   "outputs": [
    {
     "data": {
      "text/plain": [
       "10.0"
      ]
     },
     "execution_count": 74,
     "metadata": {},
     "output_type": "execute_result"
    }
   ],
   "source": [
    "rich_percentage = round(len(DDA[(DDA['hours-per-week'] == min_work_hours) & (DDA['salary'] == '>50K')] / num_min_workers * 100, 1)\n",
    "rich_percentage"
   ]
  },
  {
   "cell_type": "markdown",
   "id": "24cd2997",
   "metadata": {},
   "source": [
    "**What country has the highest percentage of people that earn >50K and what is that percentage?**"
   ]
  },
  {
   "cell_type": "code",
   "execution_count": 85,
   "id": "8db34f7e",
   "metadata": {},
   "outputs": [
    {
     "data": {
      "text/plain": [
       "'Iran'"
      ]
     },
     "execution_count": 85,
     "metadata": {},
     "output_type": "execute_result"
    }
   ],
   "source": [
    "highest_earning_country = (DDA[DDA['salary'] == '>50K']['native-country'].value_counts()/ DDA['native-country'].value_counts() * 100).sort_values(ascending=False).fillna(0).idxmax()\n",
    "highest_earning_country"
   ]
  },
  {
   "cell_type": "code",
   "execution_count": 87,
   "id": "0f007cdf",
   "metadata": {},
   "outputs": [
    {
     "data": {
      "text/plain": [
       "41.9"
      ]
     },
     "execution_count": 87,
     "metadata": {},
     "output_type": "execute_result"
    }
   ],
   "source": [
    "highest_earning_country_percentage = round(len(DDA[(DDA['native-country'] == highest_earning_country) & (DDA['salary'] == '>50K')]) / len(DDA[(DDA['native-country'] == highest_earning_country)])*100,1)\n",
    "highest_earning_country_percentage"
   ]
  },
  {
   "cell_type": "markdown",
   "id": "1a2c5aa7",
   "metadata": {},
   "source": [
    "**Identify the most popular occupation for those who earn >50K in India**"
   ]
  },
  {
   "cell_type": "code",
   "execution_count": 91,
   "id": "703b93af",
   "metadata": {},
   "outputs": [
    {
     "data": {
      "text/plain": [
       "'Prof-specialty'"
      ]
     },
     "execution_count": 91,
     "metadata": {},
     "output_type": "execute_result"
    }
   ],
   "source": [
    "india_occupation = DDA[(DDA['salary'] == \">50K\") & (DDA['native-country'] == \"India\")][\"occupation\"].value_counts().index[0]\n",
    "india_occupation"
   ]
  }
 ],
 "metadata": {
  "kernelspec": {
   "display_name": "Python 3",
   "language": "python",
   "name": "python3"
  },
  "language_info": {
   "codemirror_mode": {
    "name": "ipython",
    "version": 3
   },
   "file_extension": ".py",
   "mimetype": "text/x-python",
   "name": "python",
   "nbconvert_exporter": "python",
   "pygments_lexer": "ipython3",
   "version": "3.8.8"
  }
 },
 "nbformat": 4,
 "nbformat_minor": 5
}
